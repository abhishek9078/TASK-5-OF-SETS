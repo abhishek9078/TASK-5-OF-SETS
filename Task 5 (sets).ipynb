{
 "cells": [
  {
   "cell_type": "raw",
   "metadata": {},
   "source": [
    "# Task 5\n",
    "\n",
    "inbuilt methods \n",
    " 1) Difference()\n",
    "    .The function difference returns a set that is the difference between the two sets.\n",
    "    . Difference between two sets in Python is equal to the difference between the number of elements in two sets\n",
    "    . the difference between two sets A and B. Then (set A – set B) will be the elements present in set A but not in B and (set       B – set A) will be the elements present in set B but not in set A\n"
   ]
  },
  {
   "cell_type": "code",
   "execution_count": 7,
   "metadata": {
    "scrolled": true
   },
   "outputs": [
    {
     "name": "stdout",
     "output_type": "stream",
     "text": [
      "{10}\n",
      "{980}\n"
     ]
    }
   ],
   "source": [
    "# Python code to get the difference between two sets \n",
    "# using difference() between set A and set B \n",
    "\n",
    "A = {81,10,445, 670}\n",
    "B = {670,81, 445, 980,}\n",
    "print (A.difference(B))\n",
    "print (B.difference(A))"
   ]
  },
  {
   "cell_type": "code",
   "execution_count": 9,
   "metadata": {},
   "outputs": [
    {
     "name": "stdout",
     "output_type": "stream",
     "text": [
      "{10}\n",
      "{980}\n"
     ]
    }
   ],
   "source": [
    "We can also use – operator to find difference between two sets.\n",
    "# using difference() between set A and set B \n",
    "\n",
    "A = {81,10,445, 670}\n",
    "B = {670,81, 445, 980,}\n",
    "print (A - B)\n",
    "print (B - A)\n"
   ]
  },
  {
   "cell_type": "markdown",
   "metadata": {},
   "source": [
    "2)Symmetric difference ()\n",
    "  . The Python symmetric_difference() method returns the symmetric difference of two sets. \n",
    "  . The symmetric difference of two sets A and B is the set of elements that are in either A or B , but not in their           intersection.\n",
    "  . If there are a set_A and set_B, then the symmetric difference between them will be equal to the union of set_A and set_B without the intersection between the two.\n",
    "  .This in-built function of Python Set helps us to get the symmetric difference between two sets, which is equal to the elements present in either of the two sets, but not common to both the sets. Let’s look at the Venn diagram of the symmetric_difference between two sets.\n",
    "\n"
   ]
  },
  {
   "cell_type": "code",
   "execution_count": 12,
   "metadata": {},
   "outputs": [
    {
     "name": "stdout",
     "output_type": "stream",
     "text": [
      "{10, 980}\n"
     ]
    }
   ],
   "source": [
    "# Use of symmetric_difference() method \n",
    " \n",
    "A = {81,10,445, 670}\n",
    "B = {670,81, 445, 980,}\n",
    "print (A.symmetric_difference(B))\n",
    "\n",
    "#it is like the intersection between the two sets in conventional maths."
   ]
  },
  {
   "cell_type": "code",
   "execution_count": 29,
   "metadata": {},
   "outputs": [
    {
     "name": "stdout",
     "output_type": "stream",
     "text": [
      "{'p', 'r', 'e', 'o', 'w'}\n",
      "{'n', (), 'a', 'r', 'e', 'o'}\n",
      "{'p', 'n', (), 'a', 'w'}\n"
     ]
    }
   ],
   "source": [
    "#There is also another method to get the symmetric difference between two sets, by the use of an operator “^“.\n",
    " \n",
    "A = {'p', 'a', 'w', 'a', 'n'} \n",
    "B = {'r', 'a', 'o', 'n', 'e'} \n",
    "C = {()}\n",
    "\n",
    "#print (A^B)\n",
    "#print (C^B)\n",
    "#print (C^A) \n",
    "print"
   ]
  },
  {
   "cell_type": "code",
   "execution_count": null,
   "metadata": {},
   "outputs": [],
   "source": []
  },
  {
   "cell_type": "code",
   "execution_count": null,
   "metadata": {},
   "outputs": [],
   "source": []
  },
  {
   "cell_type": "code",
   "execution_count": null,
   "metadata": {},
   "outputs": [],
   "source": []
  }
 ],
 "metadata": {
  "kernelspec": {
   "display_name": "Python 3",
   "language": "python",
   "name": "python3"
  },
  "language_info": {
   "codemirror_mode": {
    "name": "ipython",
    "version": 3
   },
   "file_extension": ".py",
   "mimetype": "text/x-python",
   "name": "python",
   "nbconvert_exporter": "python",
   "pygments_lexer": "ipython3",
   "version": "3.7.6"
  }
 },
 "nbformat": 4,
 "nbformat_minor": 4
}
